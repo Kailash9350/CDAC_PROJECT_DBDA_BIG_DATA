{
 "cells": [
  {
   "cell_type": "code",
   "execution_count": 31,
   "id": "36aa69ea-2b9d-4cfd-a657-1f5d4695094c",
   "metadata": {},
   "outputs": [],
   "source": [
    "import findspark\n",
    "findspark.init()\n",
    "from pyspark.sql import SparkSession\n",
    "from pyspark.ml.feature import StringIndexer, OneHotEncoder, VectorAssembler\n",
    "from pyspark.ml.regression import LinearRegression, DecisionTreeRegressor, RandomForestRegressor, GBTRegressor\n",
    "from pyspark.ml import Pipeline\n",
    "from pyspark.ml.evaluation import RegressionEvaluator\n",
    "import matplotlib.pyplot as plt\n",
    "import seaborn as sns\n",
    "import pandas as pd\n",
    "import warnings\n",
    "warnings.filterwarnings(\"ignore\")"
   ]
  },
  {
   "cell_type": "code",
   "execution_count": null,
   "id": "e725f68c-a691-4e94-8f07-b6a03c2a474f",
   "metadata": {},
   "outputs": [
    {
     "name": "stdout",
     "output_type": "stream",
     "text": [
      "25/08/08 18:59:40 WARN SparkSession: Using an existing Spark session; only runtime SQL configurations will take effect.\n"
     ]
    }
   ],
   "source": [
    "spark=SparkSession.builder\\\n",
    "    .appName(\"Flight Fare Prediction\")\\\n",
    "    .master(\"local[*]\")\\\n",
    "    .config(\"spark.sql.warehouse.dir\", \"/user/hive/warehouse\")\\\n",
    "    .config(\"hive.metastore.uris\", \"thrift://localhost:9083\")\\\n",
    "    .enableHiveSupport()\\\n",
    "    .getOrCreate()"
   ]
  },
  {
   "cell_type": "code",
   "execution_count": null,
   "id": "95531c36-44a5-4f5a-8047-fc73ac617498",
   "metadata": {},
   "outputs": [
    {
     "name": "stdout",
     "output_type": "stream",
     "text": [
      "+-------+------+-----------+--------------+-----------+------------+----------------+-------+--------+---------+-----+\n",
      "|airline|flight|source_city|departure_time|      stops|arrival_time|destination_city|  class|duration|days_left|price|\n",
      "+-------+------+-----------+--------------+-----------+------------+----------------+-------+--------+---------+-----+\n",
      "|Vistara|UK-852|     Mumbai|     Afternoon|two_or_more|     Evening|         Kolkata|Economy|    7.42|       29| 9506|\n",
      "|Vistara|UK-852|     Mumbai|     Afternoon|two_or_more|       Night|         Kolkata|Economy|   10.58|       29| 9506|\n",
      "|Vistara|UK-988|     Mumbai|         Night|        one|     Morning|         Kolkata|Economy|   11.67|       29|10288|\n",
      "|Vistara|UK-988|     Mumbai|         Night|        one|     Evening|         Kolkata|Economy|   22.67|       29|10288|\n",
      "| Indigo|6E-179|     Mumbai|       Morning|        one|     Evening|         Kolkata|Economy|    6.17|       29|10053|\n",
      "+-------+------+-----------+--------------+-----------+------------+----------------+-------+--------+---------+-----+\n",
      "only showing top 5 rows\n",
      "\n"
     ]
    }
   ],
   "source": [
    "spark.sql(\"USE flight_db\")\n",
    "df=spark.sql(\"SELECT * FROM flight_fares\").dropna()\n",
    "df.show(5)"
   ]
  },
  {
   "cell_type": "code",
   "execution_count": null,
   "id": "7a2b2d4b-583d-4abb-aa72-e474add7d8ee",
   "metadata": {},
   "outputs": [
    {
     "data": {
      "image/png": "[encoded data removed]",
      "text/plain": [
       "<Figure size 720x576 with 2 Axes>"
      ]
     },
     "metadata": {
      "needs_background": "light"
     },
     "output_type": "display_data"
    }
   ],
   "source": [
    "pandas_df=df.toPandas()\n",
    "plt.figure(figsize=(10, 8))\n",
    "sns.heatmap(pandas_df.corr(numeric_only=True), annot=True, cmap='coolwarm', fmt=\".2f\")\n",
    "plt.title(\"Correlation Matrix\")\n",
    "plt.show()"
   ]
  },
  {
   "cell_type": "code",
   "execution_count": null,
   "id": "e7c3017a-4334-4ac7-951d-7f8f0c2a05ae",
   "metadata": {},
   "outputs": [],
   "source": [
    "categorical_cols=['airline', 'source_city', 'departure_time', 'stops', 'arrival_time', 'destination_city', 'class']\n",
    "numerical_cols=['duration', 'days_left']\n",
    "label_col='price'"
   ]
  },
  {
   "cell_type": "code",
   "execution_count": null,
   "id": "f8bd570a-81e0-4934-94c8-3937d7d8fee7",
   "metadata": {},
   "outputs": [],
   "source": [
    "indexers=[StringIndexer(inputCol=col, outputCol=f\"{col}_index\", handleInvalid='keep') for col in categorical_cols]\n",
    "encoders=[OneHotEncoder(inputCol=f\"{col}_index\", outputCol=f\"{col}_vec\") for col in categorical_cols]\n",
    "assembler_inputs=[f\"{col}_vec\" for col in categorical_cols] + numerical_cols\n",
    "assembler=VectorAssembler(inputCols=assembler_inputs, outputCol=\"features\")"
   ]
  },
  {
   "cell_type": "code",
   "execution_count": null,
   "id": "04b29c85-723d-494f-98d6-b1674fdc754e",
   "metadata": {},
   "outputs": [],
   "source": [
    "train_df, test_df=df.randomSplit([0.8, 0.2], seed=42)"
   ]
  },
  {
   "cell_type": "code",
   "execution_count": 38,
   "id": "f2a53cc2-2904-4e59-9a68-4958b8387387",
   "metadata": {},
   "outputs": [],
   "source": [
    "models = {\n",
    "    \"LinearRegression\": LinearRegression(featuresCol=\"features\", labelCol=label_col),\n",
    "    \"DecisionTree\": DecisionTreeRegressor(featuresCol=\"features\", labelCol=label_col),\n",
    "    \"RandomForest\": RandomForestRegressor(featuresCol=\"features\", labelCol=label_col),\n",
    "    \"GradientBoosted\": GBTRegressor(featuresCol=\"features\", labelCol=label_col)\n",
    "}"
   ]
  },
  {
   "cell_type": "code",
   "execution_count": null,
   "id": "212bb15c-33a5-4e03-aa0d-11a9ba633da3",
   "metadata": {},
   "outputs": [],
   "source": [
    "evaluate_rmse=RegressionEvaluator(labelCol=\"price\", predictionCol=\"prediction\", metricName=\"rmse\")\n",
    "evaluate_mae=RegressionEvaluator(labelCol=\"price\", predictionCol=\"prediction\", metricName=\"mae\")\n",
    "evaluate_r2=RegressionEvaluator(labelCol=\"price\", predictionCol=\"prediction\", metricName=\"r2\")"
   ]
  },
  {
   "cell_type": "code",
   "execution_count": null,
   "id": "17fd6527-cad9-4ad6-9b1d-f2cf592a9649",
   "metadata": {},
   "outputs": [],
   "source": [
    "results=[]"
   ]
  },
  {
   "cell_type": "code",
   "execution_count": null,
   "id": "5cf90016-4590-4687-aa1f-c11749747458",
   "metadata": {},
   "outputs": [
    {
     "name": "stderr",
     "output_type": "stream",
     "text": [
      "                                                                                "
     ]
    },
    {
     "name": "stdout",
     "output_type": "stream",
     "text": [
      "25/08/08 19:03:54 WARN Instrumentation: [88054f93] regParam is zero, which might cause numerical instability and overfitting.\n"
     ]
    },
    {
     "name": "stderr",
     "output_type": "stream",
     "text": [
      "                                                                                "
     ]
    },
    {
     "name": "stdout",
     "output_type": "stream",
     "text": [
      "25/08/08 19:03:56 WARN Instrumentation: [88054f93] Cholesky solver failed due to singular covariance matrix. Retrying with Quasi-Newton solver.\n"
     ]
    },
    {
     "name": "stderr",
     "output_type": "stream",
     "text": [
      "                                                                                "
     ]
    }
   ],
   "source": [
    "for name, model in models.items():\n",
    "    stages=indexers + encoders + [assembler, model]\n",
    "    pipeline=Pipeline(stages=stages)\n",
    "    pipeline_trained_model=pipeline.fit(train_df)\n",
    "    predictions=pipeline_trained_model.transform(test_df)\n",
    "\n",
    "    rmse=evaluate_rmse.evaluate(predictions)\n",
    "    mae=evaluate_mae.evaluate(predictions)\n",
    "    r2=evaluate_r2.evaluate(predictions)\n",
    "    results.append((name, rmse, mae, r2, pipeline_trained_model))"
   ]
  },
  {
   "cell_type": "code",
   "execution_count": 48,
   "id": "cd81e882-6c94-412e-9c02-c0eee314f3c5",
   "metadata": {},
   "outputs": [
    {
     "data": {
      "text/plain": [
       "[('LinearRegression',\n",
       "  6800.344296649682,\n",
       "  4573.220749101746,\n",
       "  0.9101876999567675,\n",
       "  PipelineModel_cdb9fdfcdbce),\n",
       " ('DecisionTree',\n",
       "  5488.383095992629,\n",
       "  3218.827447911719,\n",
       "  0.9414990589664392,\n",
       "  PipelineModel_9258c6b6b0c3),\n",
       " ('RandomForest',\n",
       "  5536.375694922954,\n",
       "  3329.963866073855,\n",
       "  0.9404714748535402,\n",
       "  PipelineModel_95f6cd1ecda1),\n",
       " ('GradientBoosted',\n",
       "  4712.902327036935,\n",
       "  2766.1620286972206,\n",
       "  0.9568629050313419,\n",
       "  PipelineModel_7c5fc9e9aa0a)]"
      ]
     },
     "execution_count": 48,
     "metadata": {},
     "output_type": "execute_result"
    }
   ],
   "source": [
    "results"
   ]
  },
  {
   "cell_type": "code",
   "execution_count": null,
   "id": "d843473a-9c9b-48ce-b67c-875e426d39c7",
   "metadata": {},
   "outputs": [
    {
     "name": "stdout",
     "output_type": "stream",
     "text": [
      "GradientBoosted → RMSE: 4712.90, MAE: 2766.16, R²: 0.9569\n",
      "DecisionTree → RMSE: 5488.38, MAE: 3218.83, R²: 0.9415\n",
      "RandomForest → RMSE: 5536.38, MAE: 3329.96, R²: 0.9405\n",
      "LinearRegression → RMSE: 6800.34, MAE: 4573.22, R²: 0.9102\n"
     ]
    }
   ],
   "source": [
    "results_sorted=sorted(results, key=lambda x: x[1])\n",
    "for name, rmse, mae, r2, pipeline_trained_model in results_sorted:\n",
    "    print(f\"{name} → RMSE: {rmse:.2f}, MAE: {mae:.2f}, R²: {r2:.4f}\")"
   ]
  },
  {
   "cell_type": "code",
   "execution_count": null,
   "id": "e1e0ebd0-b8ca-486d-9390-781661456836",
   "metadata": {},
   "outputs": [
    {
     "data": {
      "image/png": "[encoded data removed]",
      "text/plain": [
       "<Figure size 864x360 with 2 Axes>"
      ]
     },
     "metadata": {
      "needs_background": "light"
     },
     "output_type": "display_data"
    }
   ],
   "source": [
    "results_df=pd.DataFrame(results_sorted, columns=[\"Model\", \"RMSE\", \"MAE\", \"R2\", \"PipelineModel\"])\n",
    "plt.figure(figsize=(12, 5))\n",
    "plt.subplot(1, 2, 1)\n",
    "sns.barplot(x=\"Model\", y=\"RMSE\", data=results_df)\n",
    "plt.title(\"RMSE Comparison\")\n",
    "plt.subplot(1, 2, 2)\n",
    "sns.barplot(x=\"Model\", y=\"R2\", data=results_df)\n",
    "plt.title(\"R² Comparison\")\n",
    "plt.tight_layout()\n",
    "plt.show()"
   ]
  },
  {
   "cell_type": "code",
   "execution_count": null,
   "id": "6c82a844-e6e9-4902-8fff-ac08f4201f23",
   "metadata": {},
   "outputs": [],
   "source": [
    "best_model_name, best_rmse, best_mae, best_r2, best_model_pipeline = results_sorted[0]\n",
    "model_path=f\"./best_model_{best_model_name}\"\n",
    "best_model_pipeline.write().overwrite().save(model_path)"
   ]
  },
  {
   "cell_type": "code",
   "execution_count": null,
   "id": "b36c9853-e469-4a6e-b21f-335f59d1fea5",
   "metadata": {},
   "outputs": [],
   "source": []
  },
  {
   "cell_type": "code",
   "execution_count": null,
   "id": "31fdeeab-e1a5-4d90-9641-569c245e94be",
   "metadata": {},
   "outputs": [],
   "source": []
  },
  {
   "cell_type": "code",
   "execution_count": null,
   "id": "3fa2d3b4-7643-4b34-9db4-dcadceaba5b3",
   "metadata": {},
   "outputs": [],
   "source": []
  },
  {
   "cell_type": "code",
   "execution_count": null,
   "id": "0e8aa5e6-92ae-4280-bc22-0d3dab231443",
   "metadata": {},
   "outputs": [],
   "source": []
  },
  {
   "cell_type": "code",
   "execution_count": null,
   "id": "09824c55-cb33-435b-a571-271787d6ed03",
   "metadata": {},
   "outputs": [],
   "source": []
  },
  {
   "cell_type": "code",
   "execution_count": null,
   "id": "0978730f-eb71-43f9-b4b5-475d9bea6fc3",
   "metadata": {},
   "outputs": [],
   "source": []
  },
  {
   "cell_type": "code",
   "execution_count": null,
   "id": "4a3f1980-ae55-4844-b0ad-3c9e73b92f97",
   "metadata": {},
   "outputs": [],
   "source": []
  },
  {
   "cell_type": "code",
   "execution_count": null,
   "id": "93d3449c-4400-4393-bb70-82aac6ad5a4a",
   "metadata": {},
   "outputs": [],
   "source": []
  }
 ],
 "metadata": {
  "kernelspec": {
   "display_name": "Python 3 (ipykernel)",
   "language": "python",
   "name": "python3"
  },
  "language_info": {
   "codemirror_mode": {
    "name": "ipython",
    "version": 3
   },
   "file_extension": ".py",
   "mimetype": "text/x-python",
   "name": "python",
   "nbconvert_exporter": "python",
   "pygments_lexer": "ipython3",
   "version": "3.10.12"
  }
 },
 "nbformat": 4,
 "nbformat_minor": 5
}
